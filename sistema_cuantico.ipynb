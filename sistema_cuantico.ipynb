{
 "cells": [
  {
   "cell_type": "markdown",
   "id": "96241b26-70f2-4575-9289-ef80e2190f8c",
   "metadata": {},
   "source": [
    "# Teoria cuantica basica, observables y medidas"
   ]
  },
  {
   "cell_type": "markdown",
   "id": "f3adda65-fb93-4914-a0df-1417c4edcb8a",
   "metadata": {},
   "source": [
    "## Simule el primer sistema cuantico descrito en la seccion 4.1"
   ]
  },
  {
   "cell_type": "markdown",
   "id": "a3ede90b-e4a4-4a8a-8159-8747cddebb55",
   "metadata": {},
   "source": [
    "##  El sistema debe calcular la probabilidad de encontrarlo en una posición en particular."
   ]
  },
  {
   "cell_type": "code",
   "execution_count": 4,
   "id": "5af15509-db6a-47e0-9c67-64c311bbe2f5",
   "metadata": {},
   "outputs": [
    {
     "name": "stdout",
     "output_type": "stream",
     "text": [
      "La probabilidad es:  [0.52631579]\n",
      "La probabilidad es:  [0.21052632]\n",
      "La probabilidad es:  [0.05263158]\n",
      "La probabilidad es:  [0.21052632]\n",
      "La suma de las probabilidades es:  1.0\n"
     ]
    }
   ],
   "source": [
    "# Solución \n",
    "import numpy as np\n",
    "def normalizar(datos):\n",
    "    acumulado = 0\n",
    "    for i in range(len(datos)):\n",
    "        acumulado += modulo(datos[i])\n",
    "    acumulado = acumulado ** (0.5)\n",
    "    for i in range(len(datos)):\n",
    "        datos[i] /= acumulado \n",
    "    return datos\n",
    "\n",
    "def modulo(A):\n",
    "    return np.abs(A) ** 2\n",
    "\n",
    "def probsistlineal(estado, pos):\n",
    "    if pos > len(estado):\n",
    "        raise Exception(\"La posicion excede el tamaño del estado\")\n",
    "    estado = normalizar(estado)\n",
    "    return modulo(estado[pos])\n",
    "\n",
    "\n",
    "#Ejemplo sacado del libro\n",
    "v1= np.array([[-3-1j],[-2j],[1j],[2j]])\n",
    "\n",
    "#Prop en la posicion 1\n",
    "posicion = 0\n",
    "prob_1 = probsistlineal(v1,posicion)\n",
    "print(\"La probabilidad es: \", prob_1)\n",
    "\n",
    "#Prop en la posicion 2\n",
    "posicion = 1\n",
    "prob_2 = probsistlineal(v1,posicion)\n",
    "print(\"La probabilidad es: \", prob_2)\n",
    "\n",
    "#Prop en la posicion 3, pdt en esta posicion se compara con el resultado del libro y si coinciden\n",
    "posicion = 2\n",
    "prob_3 = probsistlineal(v1,posicion)\n",
    "print(\"La probabilidad es: \", prob_3)\n",
    "\n",
    "#Prop en la posicion 4\n",
    "posicion = 3\n",
    "prob_4 = probsistlineal(v1,posicion)\n",
    "print(\"La probabilidad es: \", prob_4)\n",
    "\n",
    "#Verificacion con la suma de las probabilidades\n",
    "suma = (prob_1[0] + prob_2[0] + prob_3[0] + prob_4[0] )\n",
    "print(\"La suma de las probabilidades es: \", suma)\n",
    "\n",
    "\n"
   ]
  },
  {
   "cell_type": "markdown",
   "id": "c527018c-addb-4091-81fa-c3f3a9d49e92",
   "metadata": {},
   "source": [
    "#   El sistema si se le da otro vector Ket debe buscar la probabilidad de transitar del primer vector al segundo."
   ]
  },
  {
   "cell_type": "code",
   "execution_count": 5,
   "id": "c61bc6ff-b904-4b2f-b01a-ff81c6a1611f",
   "metadata": {},
   "outputs": [
    {
     "name": "stdout",
     "output_type": "stream",
     "text": [
      "La probabilidad es : 0.1756892230576441\n"
     ]
    }
   ],
   "source": [
    "#Solucion  \n",
    "import numpy as np\n",
    "def normalizar(datos):\n",
    "    acumulado = 0\n",
    "    for i in range(len(datos)):\n",
    "        acumulado += modulo(datos[i])\n",
    "    acumulado = acumulado ** (0.5)\n",
    "    for i in range(len(datos)):\n",
    "        datos[i] /= acumulado \n",
    "    return datos\n",
    "\n",
    "def modulo(A):\n",
    "    return np.abs(A) ** 2\n",
    "\n",
    "def proba(matriz1, matriz2):\n",
    "    matriz1 = normalizar(matriz1)\n",
    "    matriz2 = normalizar(matriz2)\n",
    "    producto_interno = np.dot(matriz1,np.conj(matriz2))\n",
    "    prob = np.abs(producto_interno) ** 2\n",
    "    return prob\n",
    "\n",
    "#Ejemplo\n",
    "\n",
    "v1= np.array([-3-1j , -2j , 1j ,2j])\n",
    "v2 = np.array([4j, 2+8j, 3j, 9+6j])\n",
    "probabilidad = proba(v1,v2)\n",
    "print(\"La probabilidad es :\", probabilidad)\n",
    "\n"
   ]
  },
  {
   "cell_type": "markdown",
   "id": "c22792fd-b58b-4c02-b933-3b0bad12d47b",
   "metadata": {},
   "source": [
    "# Complete los retos de programación del capitulo 4"
   ]
  },
  {
   "cell_type": "markdown",
   "id": "9565ba36-a5ee-48a2-bf39-427f7c8ee5dc",
   "metadata": {},
   "source": [
    "## Amplitud de transición. El sistema puede recibir dos vectores y calcular la probabilidad de transitar de el uno al otro después de hacer la observación"
   ]
  },
  {
   "cell_type": "code",
   "execution_count": 7,
   "id": "84ec21e9-b308-4e0b-a2ba-c1e1ddb8d7bc",
   "metadata": {},
   "outputs": [
    {
     "name": "stdout",
     "output_type": "stream",
     "text": [
      "La probabilidad es : 0.1359441257171365\n"
     ]
    }
   ],
   "source": [
    "# Solucion \n",
    "import numpy as np\n",
    "def normalizar(datos):\n",
    "    acumulado = 0\n",
    "    for i in range(len(datos)):\n",
    "        acumulado += modulo(datos[i])\n",
    "    acumulado = acumulado ** (0.5)\n",
    "    for i in range(len(datos)):\n",
    "        datos[i] /= acumulado \n",
    "    return datos\n",
    "\n",
    "def modulo(A):\n",
    "    return np.abs(A) ** 2\n",
    "\n",
    "def proba(matriz1, matriz2):\n",
    "    matriz1 = normalizar(matriz1)\n",
    "    matriz2 = normalizar(matriz2)\n",
    "    producto_interno = np.dot(matriz1,np.conj(matriz2))\n",
    "    prob = np.abs(producto_interno) ** 2\n",
    "    return prob\n",
    "\n",
    "#Ejemplo\n",
    "\n",
    "v1= np.array([5j+2 , -2j , 1j ,2j])\n",
    "v2 = np.array([1-4j, 2+8j, 3j, 9+6j])\n",
    "probabilidad = proba(v1,v2)\n",
    "print(\"La probabilidad es :\", probabilidad)\n"
   ]
  },
  {
   "cell_type": "markdown",
   "id": "c3ebadad-ca21-40a0-999c-35b11a5f0869",
   "metadata": {},
   "source": [
    "## Ahora con una matriz que describa un observable y un vector ket, el sistema revisa que la matriz sea hermitiana, y si lo es, calcula la media y la varianza del observable en el estado dado."
   ]
  },
  {
   "cell_type": "code",
   "execution_count": 9,
   "id": "627979c1-afa9-4d31-aa58-b26f411055c9",
   "metadata": {},
   "outputs": [
    {
     "name": "stdout",
     "output_type": "stream",
     "text": [
      "Valor esperado: (27+0j)\n",
      "Varianza: (3057+0j)\n"
     ]
    }
   ],
   "source": [
    "# Solucion \n",
    "import numpy as np\n",
    "\n",
    "def hermitian(matriz):\n",
    "    is_hermitian = np.allclose(matriz, matriz.conj().T)\n",
    "    return is_hermitian\n",
    "\n",
    "def accionvecmat(matriz, ket):\n",
    "    return np.dot(matriz, ket)\n",
    "\n",
    "def multiplicacion(matriz, ket):\n",
    "    return np.dot(matriz, ket)\n",
    "\n",
    "def matrixXescalar(matriz, escalar):\n",
    "    return matriz * escalar\n",
    "\n",
    "def producto_interno(matriz1, matriz2):\n",
    "    return np.dot(matriz1.conj().T, matriz2)\n",
    "\n",
    "def restamatriz(matriz1, matriz2):\n",
    "    return np.subtract(matriz1, matriz2)\n",
    "\n",
    "def sumacomplejos(a, b):\n",
    "    return a + b\n",
    "\n",
    "def valoresperado(matriz, ket):\n",
    "    if not hermitian(matriz):\n",
    "        raise Exception(\"No se puede realizar la operacion debido a que la matriz no es hermitiana\")\n",
    "    else:\n",
    "        return producto_interno(accionvecmat(matriz, ket), ket)[0][0]\n",
    "\n",
    "def varianza(matriz, ket):\n",
    "    if not hermitian(matriz):\n",
    "        raise Exception(\"No se puede realizar la operacion debido a que la matriz no es hermitiana\")\n",
    "    else:\n",
    "        identidad = np.identity(len(matriz))\n",
    "        delta = restamatriz(matriz, matrixXescalar(valoresperado(matriz, ket), identidad))\n",
    "        delta = multiplicacion(delta, delta)\n",
    "        return producto_interno(accionvecmat(delta, ket), ket)[0][0]\n",
    "\n",
    "# Ejemplo\n",
    "matriz_hermitiana = np.array([[1, 2+1j],\n",
    "                               [2-1j, 4]])\n",
    "\n",
    "ket = np.array([[1], [2+1j]])\n",
    "\n",
    "print(\"Valor esperado:\", valoresperado(matriz_hermitiana, ket))\n",
    "print(\"Varianza:\", varianza(matriz_hermitiana, ket))\n",
    "\n"
   ]
  },
  {
   "cell_type": "markdown",
   "id": "c8f75711-27c5-4232-8f84-f9dd50604d80",
   "metadata": {},
   "source": [
    "##  El sistema calcula los valores propios del observable y la probabilidad de que el sistema transite a alguno de los vectores propios después de la observación."
   ]
  },
  {
   "cell_type": "code",
   "execution_count": 34,
   "id": "7eea392b-5ce9-4951-80c3-4face7f0d50e",
   "metadata": {},
   "outputs": [
    {
     "name": "stdout",
     "output_type": "stream",
     "text": [
      "Valores propios del observable:\n",
      "(7.5979898266684724, 3.4189774283052523e-16)\n",
      "(3.3371617243670233, 1.612079254282276e-16)\n",
      "(1.0648484489645045, -5.901645840869009e-17)\n",
      "\n",
      "Probabilidad de transición a cada vector propio:\n",
      "Probabilidad de transitar al vector propio 1 : [[0.64396328+0.j]]\n",
      "Probabilidad de transitar al vector propio 2 : [[0.11157138-0.42385912j]]\n",
      "Probabilidad de transitar al vector propio 3 : [[0.62457547-0.05578569j]]\n"
     ]
    }
   ],
   "source": [
    "# Solucion \n",
    "import numpy as np\n",
    "\n",
    "def normalizar(datos):\n",
    "    acumulado = 0\n",
    "    for i in range(len(datos)):\n",
    "        acumulado += modulo(datos[i])\n",
    "    acumulado = acumulado ** 0.5\n",
    "    for i in range(len(datos)):\n",
    "        datos[i] = datos[i] / acumulado  # Convertir a tipo float para evitar error de casting\n",
    "    return datos\n",
    "\n",
    "\n",
    "def modulo(A):\n",
    "    return np.abs(A) ** 2\n",
    "\n",
    "def producto_interno(matriz1, matriz2):\n",
    "    return np.dot(matriz1.conj().T, matriz2)\n",
    "\n",
    "def vectsvalspropios(matriz):\n",
    "    valores_propios, vectores_propios = np.linalg.eig(matriz)\n",
    "    valores_propios_tuplas = [(np.real(valor), np.imag(valor)) for valor in valores_propios]\n",
    "    vectores_propios = [np.expand_dims(vec, axis=1) for vec in vectores_propios]  # Asegurar que sean vectores columna\n",
    "    return valores_propios_tuplas, vectores_propios\n",
    "\n",
    "\n",
    "\n",
    "def transitar(estadoi, estadof):\n",
    "    estadoi = normalizar(estadoi)\n",
    "    estadof = normalizar(estadof)\n",
    "    return producto_interno(estadof, estadoi)\n",
    "\n",
    "# Ejemplo de uso:\n",
    "\n",
    "# Definir una matriz observable hermitiana (3x3)\n",
    "matriz_observable = np.array([[5, -1j, 2],\n",
    "                              [1j, 3, 1+2j],\n",
    "                              [2, 1-2j, 4]])\n",
    "\n",
    "# Calcular valores y vectores propios\n",
    "valores_propios, vectores_propios = vectsvalspropios(matriz_observable)\n",
    "\n",
    "# Imprimir los valores propios\n",
    "print(\"Valores propios del observable:\")\n",
    "for valor in valores_propios:\n",
    "    print(valor)\n",
    "\n",
    "# Definir un estado inicial\n",
    "ket = np.array([[1], [0], [0]])\n",
    "\n",
    "# Calcular la probabilidad de transición a cada vector propio\n",
    "print(\"\\nProbabilidad de transición a cada vector propio:\")\n",
    "for i, vector in enumerate(vectores_propios):\n",
    "    probabilidad = transitar(ket, vector)\n",
    "    print(\"Probabilidad de transitar al vector propio\", i+1, \":\", probabilidad)"
   ]
  },
  {
   "cell_type": "markdown",
   "id": "a78ff793-35bd-413a-8818-c11c1b59112a",
   "metadata": {},
   "source": [
    "#  Se considera la dinámica del sistema. Ahora con una serie de matrices Un el sistema calcula el estado final a partir de un estado inicial."
   ]
  },
  {
   "cell_type": "code",
   "execution_count": 64,
   "id": "a01b41d2-c09a-4cf2-a32f-3a6fb31b1331",
   "metadata": {},
   "outputs": [
    {
     "name": "stdout",
     "output_type": "stream",
     "text": [
      "Estado final después de la dinámica del sistema: [0 0 1]\n"
     ]
    }
   ],
   "source": [
    "# Solucion  \n",
    "\n",
    "import numpy as np\n",
    "\n",
    "def accionvecmat(matriz, ket):\n",
    "    return np.dot(matriz, ket)\n",
    "\n",
    "def unitaria(A):\n",
    "    A_np = np.array(A)  # Convertir la lista A a una matriz NumPy\n",
    "    res = np.matmul(np.conj(A_np.T), A_np)\n",
    "    identidad = np.eye(len(res), dtype=np.complex128)\n",
    "    return np.allclose(res, identidad)\n",
    "\n",
    "def dinamicasistema(matrices_unitarias, estado_inicial, veces=1):\n",
    "    estado_actual = estado_inicial\n",
    "    for _ in range(veces):\n",
    "        for matriz_unitaria in matrices_unitarias:\n",
    "            if not unitaria(matriz_unitaria):\n",
    "                print(\"Una de las matrices proporcionadas no es unitaria.\")\n",
    "            estado_actual = accionvecmat(matriz_unitaria, estado_actual)\n",
    "    return estado_actual\n",
    "\n",
    "# Definir algunas matrices unitarias y un estado inicial\n",
    "matriz_unitaria1 = np.array([[0, 1, 0],\n",
    "                              [1, 0, 0],\n",
    "                              [0, 0, 1]])\n",
    "\n",
    "matriz_unitaria2 = np.array([[1, 0, 0],\n",
    "                              [0, 0, 1],\n",
    "                              [0, 1, 0]])\n",
    "\n",
    "estado_inicial = np.array([1, 0, 0])\n",
    "\n",
    "# Aplicar las transformaciones unitarias al estado inicial\n",
    "matrices_unitarias = [matriz_unitaria1, matriz_unitaria2]\n",
    "estado_final = dinamicasistema(matrices_unitarias, estado_inicial)\n",
    "\n",
    "print(\"Estado final después de la dinámica del sistema:\", estado_final)\n"
   ]
  },
  {
   "cell_type": "markdown",
   "id": "86e32716-91d2-427f-acc2-6597697b3298",
   "metadata": {},
   "source": [
    "# REALICE LOS SIGUIENTES PROBLEMAS E INCLUYALOS COMO EJEMPLOS"
   ]
  },
  {
   "cell_type": "markdown",
   "id": "7c677451-6d84-44ac-9d34-97dc8a6e419a",
   "metadata": {},
   "source": [
    "## Solucion 4.3.1"
   ]
  },
  {
   "cell_type": "code",
   "execution_count": 46,
   "id": "e151d6d0-9491-4dbf-9d1d-34a2a64767f8",
   "metadata": {},
   "outputs": [
    {
     "name": "stdout",
     "output_type": "stream",
     "text": [
      "Da el siguiente resultado despues de la observacion [[[0 0]\n",
      "  [1 0]]\n",
      "\n",
      " [[1 0]\n",
      "  [0 0]]]\n",
      "Los valores propios son  [(array([0., 0.]), array([0., 0.])), (array([1., 0.]), array([0., 0.]))] \n",
      "vectores poropios son:  [array([[[ 0.00000000e+000,  2.00416836e-292]],\n",
      "\n",
      "       [[ 1.00000000e+000, -1.00000000e+000]]]), array([[[1., 0.]],\n",
      "\n",
      "       [[0., 1.]]])]\n"
     ]
    }
   ],
   "source": [
    "def Ejercicio431():\n",
    "    \n",
    "    v1 = np.array([[1, 0], [0, 0]])\n",
    "    observable_x = np.array([[(0, 0), (1, 0)], [(1, 0), (0, 0)]])\n",
    "    vr = accionvecmat(observable_x, v1)\n",
    "    vals, vects_x = vectsvalspropios(observable_x)\n",
    "    print(\"Da el siguiente resultado despues de la observacion\", vr)\n",
    "    print(\"Los valores propios son \", vals, \"\\nvectores poropios son: \", vects_x)\n",
    "\n",
    "Ejercicio431()"
   ]
  },
  {
   "cell_type": "markdown",
   "id": "10404809-603f-49e7-9409-67c69c75491b",
   "metadata": {},
   "source": [
    "## Solucion 4.3.2"
   ]
  },
  {
   "cell_type": "code",
   "execution_count": 50,
   "id": "d9128ba9-7e03-482a-a8ec-0d0c959ed2a1",
   "metadata": {},
   "outputs": [
    {
     "name": "stdout",
     "output_type": "stream",
     "text": [
      "[[[ 0.00000000e+000 -2.14748365e+009]]\n",
      "\n",
      " [[ 2.00416836e-292  2.14748365e+009]]]\n",
      "[[[ 1.00000000e+00 -2.14748365e+09]]\n",
      "\n",
      " [[ 0.00000000e+00 -2.14748365e+09]]]\n"
     ]
    },
    {
     "name": "stderr",
     "output_type": "stream",
     "text": [
      "C:\\Users\\santiago.cordoba-d\\AppData\\Local\\Temp\\ipykernel_13124\\674641486.py:10: RuntimeWarning: invalid value encountered in divide\n",
      "  datos[i] = datos[i] / acumulado  # Convertir a tipo float para evitar error de casting\n",
      "C:\\Users\\santiago.cordoba-d\\AppData\\Local\\Temp\\ipykernel_13124\\674641486.py:10: RuntimeWarning: invalid value encountered in cast\n",
      "  datos[i] = datos[i] / acumulado  # Convertir a tipo float para evitar error de casting\n",
      "C:\\Users\\santiago.cordoba-d\\AppData\\Local\\Temp\\ipykernel_13124\\674641486.py:10: RuntimeWarning: divide by zero encountered in divide\n",
      "  datos[i] = datos[i] / acumulado  # Convertir a tipo float para evitar error de casting\n"
     ]
    }
   ],
   "source": [
    "def Ejercicio432():\n",
    "    v1 = np.array([[1, 0], [0, 0]])\n",
    "    observable = np.array([[(0, 0), (1, 0)], [(1, 0), (0, 0)]])\n",
    "    vals, vects = vectsvalspropios(observable)\n",
    "    for i in range(len(vects)):\n",
    "        print(transitar(v1,vects[i]))\n",
    "Ejercicio432()"
   ]
  },
  {
   "cell_type": "markdown",
   "id": "f6cefb65-3c42-4cf8-8605-4e9dfb554132",
   "metadata": {},
   "source": [
    "## Solucion 4.4.1"
   ]
  },
  {
   "cell_type": "code",
   "execution_count": 58,
   "id": "f51d0540-154e-42be-8e50-d54953f25d36",
   "metadata": {},
   "outputs": [
    {
     "name": "stdout",
     "output_type": "stream",
     "text": [
      "false\n"
     ]
    }
   ],
   "source": [
    "def Ejercicio441():\n",
    "    U1 = np.array([[(0, 0), (1, 0)], [(1, 0), (0, 0)]])\n",
    "    U2 = np.array([[((2**(1/2))/2, 0), ((2**(1/2))/2, 0)], [((2**(1/2))/2, 0), (-(2**(1/2))/2, 0)]])\n",
    "    if unitaria(U1) and unitaria(U2):\n",
    "        print(unitaria(multiplicacion(U1,U2)))\n",
    "    else: \n",
    "        print(\"false\")\n",
    "Ejercicio441()"
   ]
  },
  {
   "cell_type": "markdown",
   "id": "f3f03cc5-1875-49fb-8633-4bf30bd34af3",
   "metadata": {},
   "source": [
    "## Solucion 4.4.2"
   ]
  },
  {
   "cell_type": "code",
   "execution_count": 69,
   "id": "d702eb90-abe8-4896-80ba-88b6104e6d17",
   "metadata": {},
   "outputs": [
    {
     "ename": "ValueError",
     "evalue": "operands could not be broadcast together with remapped shapes [original->remapped]: (2,4,4)->(2,newaxis,newaxis) (4,4,2)->(4,newaxis,newaxis)  and requested shape (4,2)",
     "output_type": "error",
     "traceback": [
      "\u001b[1;31m---------------------------------------------------------------------------\u001b[0m",
      "\u001b[1;31mValueError\u001b[0m                                Traceback (most recent call last)",
      "Cell \u001b[1;32mIn[69], line 9\u001b[0m\n\u001b[0;32m      6\u001b[0m     \u001b[38;5;28;01melse\u001b[39;00m:\n\u001b[0;32m      7\u001b[0m         \u001b[38;5;28;01mraise\u001b[39;00m \u001b[38;5;167;01mException\u001b[39;00m(\u001b[38;5;124m\"\u001b[39m\u001b[38;5;124mNo se puede realizar la operacion debido a que la matriz no es unitaria\u001b[39m\u001b[38;5;124m\"\u001b[39m)\n\u001b[1;32m----> 9\u001b[0m \u001b[38;5;28mprint\u001b[39m(\u001b[43mdinamicasistema1\u001b[49m\u001b[43m(\u001b[49m\u001b[43m[\u001b[49m\u001b[43m[\u001b[49m\u001b[43m(\u001b[49m\u001b[38;5;241;43m0\u001b[39;49m\u001b[43m,\u001b[49m\u001b[43m \u001b[49m\u001b[38;5;241;43m0\u001b[39;49m\u001b[43m)\u001b[49m\u001b[43m,\u001b[49m\u001b[43m \u001b[49m\u001b[43m(\u001b[49m\u001b[38;5;241;43m1\u001b[39;49m\u001b[38;5;241;43m/\u001b[39;49m\u001b[43m(\u001b[49m\u001b[38;5;241;43m2\u001b[39;49m\u001b[38;5;241;43m*\u001b[39;49m\u001b[43m(\u001b[49m\u001b[38;5;241;43m1\u001b[39;49m\u001b[38;5;241;43m/\u001b[39;49m\u001b[38;5;241;43m2\u001b[39;49m\u001b[43m)\u001b[49m\u001b[43m)\u001b[49m\u001b[43m,\u001b[49m\u001b[43m \u001b[49m\u001b[38;5;241;43m0\u001b[39;49m\u001b[43m)\u001b[49m\u001b[43m,\u001b[49m\u001b[43m \u001b[49m\u001b[43m(\u001b[49m\u001b[38;5;241;43m1\u001b[39;49m\u001b[38;5;241;43m/\u001b[39;49m\u001b[43m(\u001b[49m\u001b[38;5;241;43m2\u001b[39;49m\u001b[38;5;241;43m*\u001b[39;49m\u001b[43m(\u001b[49m\u001b[38;5;241;43m1\u001b[39;49m\u001b[38;5;241;43m/\u001b[39;49m\u001b[38;5;241;43m2\u001b[39;49m\u001b[43m)\u001b[49m\u001b[43m)\u001b[49m\u001b[43m,\u001b[49m\u001b[43m \u001b[49m\u001b[38;5;241;43m0\u001b[39;49m\u001b[43m)\u001b[49m\u001b[43m,\u001b[49m\u001b[43m \u001b[49m\u001b[43m(\u001b[49m\u001b[38;5;241;43m0\u001b[39;49m\u001b[43m,\u001b[49m\u001b[43m \u001b[49m\u001b[38;5;241;43m0\u001b[39;49m\u001b[43m)\u001b[49m\u001b[43m]\u001b[49m\u001b[43m,\u001b[49m\n\u001b[0;32m     10\u001b[0m \u001b[43m                        \u001b[49m\u001b[43m[\u001b[49m\u001b[43m(\u001b[49m\u001b[38;5;241;43m0\u001b[39;49m\u001b[43m,\u001b[49m\u001b[38;5;241;43m1\u001b[39;49m\u001b[38;5;241;43m/\u001b[39;49m\u001b[43m(\u001b[49m\u001b[38;5;241;43m2\u001b[39;49m\u001b[38;5;241;43m*\u001b[39;49m\u001b[43m(\u001b[49m\u001b[38;5;241;43m1\u001b[39;49m\u001b[38;5;241;43m/\u001b[39;49m\u001b[38;5;241;43m2\u001b[39;49m\u001b[43m)\u001b[49m\u001b[43m)\u001b[49m\u001b[43m)\u001b[49m\u001b[43m,\u001b[49m\u001b[43m \u001b[49m\u001b[43m(\u001b[49m\u001b[38;5;241;43m0\u001b[39;49m\u001b[43m,\u001b[49m\u001b[43m \u001b[49m\u001b[38;5;241;43m0\u001b[39;49m\u001b[43m)\u001b[49m\u001b[43m,\u001b[49m\u001b[43m \u001b[49m\u001b[43m(\u001b[49m\u001b[38;5;241;43m0\u001b[39;49m\u001b[43m,\u001b[49m\u001b[43m \u001b[49m\u001b[38;5;241;43m0\u001b[39;49m\u001b[43m)\u001b[49m\u001b[43m,\u001b[49m\u001b[43m \u001b[49m\u001b[43m(\u001b[49m\u001b[38;5;241;43m1\u001b[39;49m\u001b[38;5;241;43m/\u001b[39;49m\u001b[43m(\u001b[49m\u001b[38;5;241;43m2\u001b[39;49m\u001b[38;5;241;43m*\u001b[39;49m\u001b[43m(\u001b[49m\u001b[38;5;241;43m1\u001b[39;49m\u001b[38;5;241;43m/\u001b[39;49m\u001b[38;5;241;43m2\u001b[39;49m\u001b[43m)\u001b[49m\u001b[43m)\u001b[49m\u001b[43m,\u001b[49m\u001b[43m \u001b[49m\u001b[38;5;241;43m0\u001b[39;49m\u001b[43m)\u001b[49m\u001b[43m]\u001b[49m\u001b[43m,\u001b[49m\n\u001b[0;32m     11\u001b[0m \u001b[43m                        \u001b[49m\u001b[43m[\u001b[49m\u001b[43m(\u001b[49m\u001b[38;5;241;43m1\u001b[39;49m\u001b[43m \u001b[49m\u001b[38;5;241;43m/\u001b[39;49m\u001b[43m \u001b[49m\u001b[43m(\u001b[49m\u001b[38;5;241;43m2\u001b[39;49m\u001b[43m \u001b[49m\u001b[38;5;241;43m*\u001b[39;49m\u001b[43m \u001b[49m\u001b[43m(\u001b[49m\u001b[38;5;241;43m1\u001b[39;49m\u001b[43m \u001b[49m\u001b[38;5;241;43m/\u001b[39;49m\u001b[43m \u001b[49m\u001b[38;5;241;43m2\u001b[39;49m\u001b[43m)\u001b[49m\u001b[43m)\u001b[49m\u001b[43m,\u001b[49m\u001b[43m \u001b[49m\u001b[38;5;241;43m0\u001b[39;49m\u001b[43m)\u001b[49m\u001b[43m,\u001b[49m\u001b[43m \u001b[49m\u001b[43m(\u001b[49m\u001b[38;5;241;43m0\u001b[39;49m\u001b[43m,\u001b[49m\u001b[43m \u001b[49m\u001b[38;5;241;43m0\u001b[39;49m\u001b[43m)\u001b[49m\u001b[43m,\u001b[49m\u001b[43m \u001b[49m\u001b[43m(\u001b[49m\u001b[38;5;241;43m0\u001b[39;49m\u001b[43m,\u001b[49m\u001b[43m \u001b[49m\u001b[38;5;241;43m0\u001b[39;49m\u001b[43m)\u001b[49m\u001b[43m,\u001b[49m\u001b[43m \u001b[49m\u001b[43m(\u001b[49m\u001b[38;5;241;43m0\u001b[39;49m\u001b[43m,\u001b[49m\u001b[38;5;241;43m1\u001b[39;49m\u001b[43m \u001b[49m\u001b[38;5;241;43m/\u001b[39;49m\u001b[43m \u001b[49m\u001b[43m(\u001b[49m\u001b[38;5;241;43m2\u001b[39;49m\u001b[43m \u001b[49m\u001b[38;5;241;43m*\u001b[39;49m\u001b[43m \u001b[49m\u001b[43m(\u001b[49m\u001b[38;5;241;43m1\u001b[39;49m\u001b[43m \u001b[49m\u001b[38;5;241;43m/\u001b[39;49m\u001b[43m \u001b[49m\u001b[38;5;241;43m2\u001b[39;49m\u001b[43m)\u001b[49m\u001b[43m)\u001b[49m\u001b[43m)\u001b[49m\u001b[43m]\u001b[49m\u001b[43m,\u001b[49m\n\u001b[0;32m     12\u001b[0m \u001b[43m                        \u001b[49m\u001b[43m[\u001b[49m\u001b[43m(\u001b[49m\u001b[38;5;241;43m0\u001b[39;49m\u001b[43m,\u001b[49m\u001b[43m \u001b[49m\u001b[38;5;241;43m0\u001b[39;49m\u001b[43m)\u001b[49m\u001b[43m,\u001b[49m\u001b[43m \u001b[49m\u001b[43m(\u001b[49m\u001b[38;5;241;43m1\u001b[39;49m\u001b[38;5;241;43m/\u001b[39;49m\u001b[43m(\u001b[49m\u001b[38;5;241;43m2\u001b[39;49m\u001b[38;5;241;43m*\u001b[39;49m\u001b[43m(\u001b[49m\u001b[38;5;241;43m1\u001b[39;49m\u001b[38;5;241;43m/\u001b[39;49m\u001b[38;5;241;43m2\u001b[39;49m\u001b[43m)\u001b[49m\u001b[43m)\u001b[49m\u001b[43m,\u001b[49m\u001b[43m \u001b[49m\u001b[38;5;241;43m0\u001b[39;49m\u001b[43m)\u001b[49m\u001b[43m,\u001b[49m\u001b[43m \u001b[49m\u001b[43m(\u001b[49m\u001b[38;5;241;43m-\u001b[39;49m\u001b[38;5;241;43m1\u001b[39;49m\u001b[38;5;241;43m/\u001b[39;49m\u001b[43m(\u001b[49m\u001b[38;5;241;43m2\u001b[39;49m\u001b[38;5;241;43m*\u001b[39;49m\u001b[43m(\u001b[49m\u001b[38;5;241;43m1\u001b[39;49m\u001b[38;5;241;43m/\u001b[39;49m\u001b[38;5;241;43m2\u001b[39;49m\u001b[43m)\u001b[49m\u001b[43m)\u001b[49m\u001b[43m,\u001b[49m\u001b[43m \u001b[49m\u001b[38;5;241;43m0\u001b[39;49m\u001b[43m)\u001b[49m\u001b[43m,\u001b[49m\u001b[43m \u001b[49m\u001b[43m(\u001b[49m\u001b[38;5;241;43m0\u001b[39;49m\u001b[43m,\u001b[49m\u001b[43m \u001b[49m\u001b[38;5;241;43m0\u001b[39;49m\u001b[43m)\u001b[49m\u001b[43m]\u001b[49m\u001b[43m]\u001b[49m\u001b[43m,\u001b[49m\n\u001b[0;32m     13\u001b[0m \u001b[43m                        \u001b[49m\u001b[43m[\u001b[49m\u001b[43m(\u001b[49m\u001b[38;5;241;43m1\u001b[39;49m\u001b[43m,\u001b[49m\u001b[38;5;241;43m0\u001b[39;49m\u001b[43m)\u001b[49m\u001b[43m,\u001b[49m\u001b[43m \u001b[49m\u001b[43m(\u001b[49m\u001b[38;5;241;43m0\u001b[39;49m\u001b[43m,\u001b[49m\u001b[38;5;241;43m0\u001b[39;49m\u001b[43m)\u001b[49m\u001b[43m,\u001b[49m\u001b[43m \u001b[49m\u001b[43m(\u001b[49m\u001b[38;5;241;43m0\u001b[39;49m\u001b[43m,\u001b[49m\u001b[38;5;241;43m0\u001b[39;49m\u001b[43m)\u001b[49m\u001b[43m,\u001b[49m\u001b[43m \u001b[49m\u001b[43m(\u001b[49m\u001b[38;5;241;43m0\u001b[39;49m\u001b[43m,\u001b[49m\u001b[38;5;241;43m0\u001b[39;49m\u001b[43m)\u001b[49m\u001b[43m]\u001b[49m\u001b[43m,\u001b[49m\u001b[43m \u001b[49m\u001b[38;5;241;43m3\u001b[39;49m\u001b[43m)\u001b[49m)\n",
      "Cell \u001b[1;32mIn[69], line 2\u001b[0m, in \u001b[0;36mdinamicasistema1\u001b[1;34m(munitaria, estado, cl)\u001b[0m\n\u001b[0;32m      1\u001b[0m \u001b[38;5;28;01mdef\u001b[39;00m \u001b[38;5;21mdinamicasistema1\u001b[39m(munitaria,estado, cl):\n\u001b[1;32m----> 2\u001b[0m     \u001b[38;5;28;01mif\u001b[39;00m \u001b[43munitaria\u001b[49m\u001b[43m(\u001b[49m\u001b[43mmunitaria\u001b[49m\u001b[43m)\u001b[49m:\n\u001b[0;32m      3\u001b[0m         \u001b[38;5;28;01mfor\u001b[39;00m i \u001b[38;5;129;01min\u001b[39;00m \u001b[38;5;28mrange\u001b[39m(cl):\n\u001b[0;32m      4\u001b[0m             estado \u001b[38;5;241m=\u001b[39m accionvecmat(munitaria, estado)\n",
      "Cell \u001b[1;32mIn[64], line 10\u001b[0m, in \u001b[0;36munitaria\u001b[1;34m(A)\u001b[0m\n\u001b[0;32m      8\u001b[0m \u001b[38;5;28;01mdef\u001b[39;00m \u001b[38;5;21munitaria\u001b[39m(A):\n\u001b[0;32m      9\u001b[0m     A_np \u001b[38;5;241m=\u001b[39m np\u001b[38;5;241m.\u001b[39marray(A)  \u001b[38;5;66;03m# Convertir la lista A a una matriz NumPy\u001b[39;00m\n\u001b[1;32m---> 10\u001b[0m     res \u001b[38;5;241m=\u001b[39m \u001b[43mnp\u001b[49m\u001b[38;5;241;43m.\u001b[39;49m\u001b[43mmatmul\u001b[49m\u001b[43m(\u001b[49m\u001b[43mnp\u001b[49m\u001b[38;5;241;43m.\u001b[39;49m\u001b[43mconj\u001b[49m\u001b[43m(\u001b[49m\u001b[43mA_np\u001b[49m\u001b[38;5;241;43m.\u001b[39;49m\u001b[43mT\u001b[49m\u001b[43m)\u001b[49m\u001b[43m,\u001b[49m\u001b[43m \u001b[49m\u001b[43mA_np\u001b[49m\u001b[43m)\u001b[49m\n\u001b[0;32m     11\u001b[0m     identidad \u001b[38;5;241m=\u001b[39m np\u001b[38;5;241m.\u001b[39meye(\u001b[38;5;28mlen\u001b[39m(res), dtype\u001b[38;5;241m=\u001b[39mnp\u001b[38;5;241m.\u001b[39mcomplex128)\n\u001b[0;32m     12\u001b[0m     \u001b[38;5;28;01mreturn\u001b[39;00m np\u001b[38;5;241m.\u001b[39mallclose(res, identidad)\n",
      "\u001b[1;31mValueError\u001b[0m: operands could not be broadcast together with remapped shapes [original->remapped]: (2,4,4)->(2,newaxis,newaxis) (4,4,2)->(4,newaxis,newaxis)  and requested shape (4,2)"
     ]
    }
   ],
   "source": [
    "def dinamicasistema1(munitaria,estado, cl):\n",
    "    if unitaria(munitaria):\n",
    "        for i in range(cl):\n",
    "            estado = accionvecmat(munitaria, estado)\n",
    "        return estado\n",
    "    else:\n",
    "        raise Exception(\"No se puede realizar la operacion debido a que la matriz no es unitaria\")\n",
    "\n",
    "print(dinamicasistema1([[(0, 0), (1/(2*(1/2)), 0), (1/(2*(1/2)), 0), (0, 0)],\n",
    "                        [(0,1/(2*(1/2))), (0, 0), (0, 0), (1/(2*(1/2)), 0)],\n",
    "                        [(1 / (2 * (1 / 2)), 0), (0, 0), (0, 0), (0,1 / (2 * (1 / 2)))],\n",
    "                        [(0, 0), (1/(2*(1/2)), 0), (-1/(2*(1/2)), 0), (0, 0)]],\n",
    "                        [(1,0), (0,0), (0,0), (0,0)], 3))\n"
   ]
  },
  {
   "cell_type": "code",
   "execution_count": null,
   "id": "fb24cdf2-5d85-4925-ac7e-c74fbe052d51",
   "metadata": {},
   "outputs": [],
   "source": []
  }
 ],
 "metadata": {
  "kernelspec": {
   "display_name": "Python 3 (ipykernel)",
   "language": "python",
   "name": "python3"
  },
  "language_info": {
   "codemirror_mode": {
    "name": "ipython",
    "version": 3
   },
   "file_extension": ".py",
   "mimetype": "text/x-python",
   "name": "python",
   "nbconvert_exporter": "python",
   "pygments_lexer": "ipython3",
   "version": "3.11.5"
  }
 },
 "nbformat": 4,
 "nbformat_minor": 5
}
