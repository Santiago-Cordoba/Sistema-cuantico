{
 "cells": [
  {
   "cell_type": "markdown",
   "id": "96241b26-70f2-4575-9289-ef80e2190f8c",
   "metadata": {},
   "source": [
    "# Teoria cuantica basica, observables y medidas"
   ]
  },
  {
   "cell_type": "markdown",
   "id": "f3adda65-fb93-4914-a0df-1417c4edcb8a",
   "metadata": {},
   "source": [
    "## Simule el primer sistema cuantico descrito en la seccion 4.1"
   ]
  },
  {
   "cell_type": "code",
   "execution_count": 20,
   "id": "5af15509-db6a-47e0-9c67-64c311bbe2f5",
   "metadata": {},
   "outputs": [
    {
     "name": "stdout",
     "output_type": "stream",
     "text": [
      "La probabilidad es:  [0.52631579]\n",
      "La probabilidad es:  [0.21052632]\n",
      "La probabilidad es:  [0.05263158]\n",
      "La probabilidad es:  [0.21052632]\n",
      "La suma de las probabilidades es:  1.0\n"
     ]
    }
   ],
   "source": [
    "# Solución . El sistema debe calcular la probabilidad de encontrarlo en una posición en particular.\n",
    "import numpy as np\n",
    "def normalizar(datos):\n",
    "    acumulado = 0\n",
    "    for i in range(len(datos)):\n",
    "        acumulado += modulo2(datos[i])\n",
    "    acumulado = acumulado ** (0.5)\n",
    "    for i in range(len(datos)):\n",
    "        datos[i] /= acumulado \n",
    "    return datos\n",
    "\n",
    "def modulo(A):\n",
    "    return np.abs(A) ** 2\n",
    "\n",
    "def probsistlineal(estado, pos):\n",
    "    if pos > len(estado):\n",
    "        raise Exception(\"La posicion excede el tamaño del estado\")\n",
    "    estado = normalizar(estado)\n",
    "    return modulo(estado[pos])\n",
    "\n",
    "\n",
    "#Ejemplo sacado del libro\n",
    "v1= np.array([[-3-1j],[-2j],[1j],[2j]])\n",
    "\n",
    "#Prop en la posicion 1\n",
    "posicion = 0\n",
    "prob_1 = probsistlineal(v1,posicion)\n",
    "print(\"La probabilidad es: \", prob_1)\n",
    "\n",
    "#Prop en la posicion 2\n",
    "posicion = 1\n",
    "prob_2 = probsistlineal(v1,posicion)\n",
    "print(\"La probabilidad es: \", prob_2)\n",
    "\n",
    "#Prop en la posicion 3, pdt en esta posicion se compara con el resultado del libro y si coinciden\n",
    "posicion = 2\n",
    "prob_3 = probsistlineal(v1,posicion)\n",
    "print(\"La probabilidad es: \", prob_3)\n",
    "\n",
    "#Prop en la posicion 4\n",
    "posicion = 3\n",
    "prob_4 = probsistlineal(v1,posicion)\n",
    "print(\"La probabilidad es: \", prob_4)\n",
    "\n",
    "#Verificacion con la suma de las probabilidades\n",
    "suma = (prob_1[0] + prob_2[0] + prob_3[0] + prob_4[0] )\n",
    "print(\"La suma de las probabilidades es: \", suma)\n",
    "\n",
    "\n"
   ]
  },
  {
   "cell_type": "code",
   "execution_count": 24,
   "id": "c61bc6ff-b904-4b2f-b01a-ff81c6a1611f",
   "metadata": {},
   "outputs": [
    {
     "name": "stdout",
     "output_type": "stream",
     "text": [
      "La probabilidad es : 0.1756892230576441\n"
     ]
    }
   ],
   "source": [
    "#Solucion  El sistema si se le da otro vector Ket debe buscar la probabilidad de transitar del primer vector al segundo.\n",
    "import numpy as np\n",
    "def normalizar(datos):\n",
    "    acumulado = 0\n",
    "    for i in range(len(datos)):\n",
    "        acumulado += modulo2(datos[i])\n",
    "    acumulado = acumulado ** (0.5)\n",
    "    for i in range(len(datos)):\n",
    "        datos[i] /= acumulado \n",
    "    return datos\n",
    "\n",
    "def modulo(A):\n",
    "    return np.abs(A) ** 2\n",
    "\n",
    "def proba(matriz1, matriz2):\n",
    "    matriz1 = normalizar(matriz1)\n",
    "    matriz2 = normalizar(matriz2)\n",
    "    producto_interno = np.dot(matriz1,np.conj(matriz2))\n",
    "    prob = np.abs(producto_interno) ** 2\n",
    "    return prob\n",
    "\n",
    "#Ejemplo\n",
    "\n",
    "v1= np.array([-3-1j , -2j , 1j ,2j])\n",
    "v2 = np.array([4j, 2+8j, 3j, 9+6j])\n",
    "probabilidad = proba(v1,v2)\n",
    "print(\"La probabilidad es :\", probabilidad)\n",
    "\n"
   ]
  },
  {
   "cell_type": "code",
   "execution_count": null,
   "id": "1d77f920-f40f-4476-8030-5123e44e5025",
   "metadata": {},
   "outputs": [],
   "source": []
  }
 ],
 "metadata": {
  "kernelspec": {
   "display_name": "Python 3 (ipykernel)",
   "language": "python",
   "name": "python3"
  },
  "language_info": {
   "codemirror_mode": {
    "name": "ipython",
    "version": 3
   },
   "file_extension": ".py",
   "mimetype": "text/x-python",
   "name": "python",
   "nbconvert_exporter": "python",
   "pygments_lexer": "ipython3",
   "version": "3.11.5"
  }
 },
 "nbformat": 4,
 "nbformat_minor": 5
}
