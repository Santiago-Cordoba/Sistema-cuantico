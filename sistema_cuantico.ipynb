{
 "cells": [
  {
   "cell_type": "markdown",
   "id": "96241b26-70f2-4575-9289-ef80e2190f8c",
   "metadata": {},
   "source": [
    "# Teoria cuantica basica, observables y medidas"
   ]
  },
  {
   "cell_type": "markdown",
   "id": "f3adda65-fb93-4914-a0df-1417c4edcb8a",
   "metadata": {},
   "source": [
    "## Simule el primer sistema cuantico descrito en la seccion 4.1"
   ]
  },
  {
   "cell_type": "code",
   "execution_count": 4,
   "id": "5af15509-db6a-47e0-9c67-64c311bbe2f5",
   "metadata": {},
   "outputs": [
    {
     "name": "stdout",
     "output_type": "stream",
     "text": [
      "La probabilidad es:  [0.52631579]\n",
      "La probabilidad es:  [0.21052632]\n",
      "La probabilidad es:  [0.05263158]\n",
      "La probabilidad es:  [0.21052632]\n",
      "La suma de las probabilidades es:  1.0\n"
     ]
    }
   ],
   "source": [
    "# Solución . El sistema debe calcular la probabilidad de encontrarlo en una posición en particular.\n",
    "import numpy as np\n",
    "def normalizar(datos):\n",
    "    acumulado = 0\n",
    "    for i in range(len(datos)):\n",
    "        acumulado += modulo(datos[i])\n",
    "    acumulado = acumulado ** (0.5)\n",
    "    for i in range(len(datos)):\n",
    "        datos[i] /= acumulado \n",
    "    return datos\n",
    "\n",
    "def modulo(A):\n",
    "    return np.abs(A) ** 2\n",
    "\n",
    "def probsistlineal(estado, pos):\n",
    "    if pos > len(estado):\n",
    "        raise Exception(\"La posicion excede el tamaño del estado\")\n",
    "    estado = normalizar(estado)\n",
    "    return modulo(estado[pos])\n",
    "\n",
    "\n",
    "#Ejemplo sacado del libro\n",
    "v1= np.array([[-3-1j],[-2j],[1j],[2j]])\n",
    "\n",
    "#Prop en la posicion 1\n",
    "posicion = 0\n",
    "prob_1 = probsistlineal(v1,posicion)\n",
    "print(\"La probabilidad es: \", prob_1)\n",
    "\n",
    "#Prop en la posicion 2\n",
    "posicion = 1\n",
    "prob_2 = probsistlineal(v1,posicion)\n",
    "print(\"La probabilidad es: \", prob_2)\n",
    "\n",
    "#Prop en la posicion 3, pdt en esta posicion se compara con el resultado del libro y si coinciden\n",
    "posicion = 2\n",
    "prob_3 = probsistlineal(v1,posicion)\n",
    "print(\"La probabilidad es: \", prob_3)\n",
    "\n",
    "#Prop en la posicion 4\n",
    "posicion = 3\n",
    "prob_4 = probsistlineal(v1,posicion)\n",
    "print(\"La probabilidad es: \", prob_4)\n",
    "\n",
    "#Verificacion con la suma de las probabilidades\n",
    "suma = (prob_1[0] + prob_2[0] + prob_3[0] + prob_4[0] )\n",
    "print(\"La suma de las probabilidades es: \", suma)\n",
    "\n",
    "\n"
   ]
  },
  {
   "cell_type": "code",
   "execution_count": 5,
   "id": "c61bc6ff-b904-4b2f-b01a-ff81c6a1611f",
   "metadata": {},
   "outputs": [
    {
     "name": "stdout",
     "output_type": "stream",
     "text": [
      "La probabilidad es : 0.1756892230576441\n"
     ]
    }
   ],
   "source": [
    "#Solucion  El sistema si se le da otro vector Ket debe buscar la probabilidad de transitar del primer vector al segundo.\n",
    "import numpy as np\n",
    "def normalizar(datos):\n",
    "    acumulado = 0\n",
    "    for i in range(len(datos)):\n",
    "        acumulado += modulo(datos[i])\n",
    "    acumulado = acumulado ** (0.5)\n",
    "    for i in range(len(datos)):\n",
    "        datos[i] /= acumulado \n",
    "    return datos\n",
    "\n",
    "def modulo(A):\n",
    "    return np.abs(A) ** 2\n",
    "\n",
    "def proba(matriz1, matriz2):\n",
    "    matriz1 = normalizar(matriz1)\n",
    "    matriz2 = normalizar(matriz2)\n",
    "    producto_interno = np.dot(matriz1,np.conj(matriz2))\n",
    "    prob = np.abs(producto_interno) ** 2\n",
    "    return prob\n",
    "\n",
    "#Ejemplo\n",
    "\n",
    "v1= np.array([-3-1j , -2j , 1j ,2j])\n",
    "v2 = np.array([4j, 2+8j, 3j, 9+6j])\n",
    "probabilidad = proba(v1,v2)\n",
    "print(\"La probabilidad es :\", probabilidad)\n",
    "\n"
   ]
  },
  {
   "cell_type": "markdown",
   "id": "c22792fd-b58b-4c02-b933-3b0bad12d47b",
   "metadata": {},
   "source": [
    "# Complete los retos de programación del capitulo 4"
   ]
  },
  {
   "cell_type": "code",
   "execution_count": 7,
   "id": "84ec21e9-b308-4e0b-a2ba-c1e1ddb8d7bc",
   "metadata": {},
   "outputs": [
    {
     "name": "stdout",
     "output_type": "stream",
     "text": [
      "La probabilidad es : 0.1359441257171365\n"
     ]
    }
   ],
   "source": [
    "# Solucion Amplitud de transición. El sistema puede recibir dos vectores y calcular la probabilidad de transitar de el uno al otro después de hacer la observación\n",
    "import numpy as np\n",
    "def normalizar(datos):\n",
    "    acumulado = 0\n",
    "    for i in range(len(datos)):\n",
    "        acumulado += modulo(datos[i])\n",
    "    acumulado = acumulado ** (0.5)\n",
    "    for i in range(len(datos)):\n",
    "        datos[i] /= acumulado \n",
    "    return datos\n",
    "\n",
    "def modulo(A):\n",
    "    return np.abs(A) ** 2\n",
    "\n",
    "def proba(matriz1, matriz2):\n",
    "    matriz1 = normalizar(matriz1)\n",
    "    matriz2 = normalizar(matriz2)\n",
    "    producto_interno = np.dot(matriz1,np.conj(matriz2))\n",
    "    prob = np.abs(producto_interno) ** 2\n",
    "    return prob\n",
    "\n",
    "#Ejemplo\n",
    "\n",
    "v1= np.array([5j+2 , -2j , 1j ,2j])\n",
    "v2 = np.array([1-4j, 2+8j, 3j, 9+6j])\n",
    "probabilidad = proba(v1,v2)\n",
    "print(\"La probabilidad es :\", probabilidad)\n"
   ]
  },
  {
   "cell_type": "code",
   "execution_count": 9,
   "id": "627979c1-afa9-4d31-aa58-b26f411055c9",
   "metadata": {},
   "outputs": [],
   "source": [
    "# Solucion Ahora con una matriz que describa un observable y un vector ket, el sistema revisa que la matriz sea hermitiana, y si lo es, calcula la media y la varianza del observable en el estado dado.\n",
    "\n",
    "#Verificamos si la matriz es hermitiana\n",
    "def hermitiana(A):\n",
    "    B = daga(A)\n",
    "    return A == B\n",
    "\n",
    "def daga(A):\n",
    "    try:\n",
    "        fil = (len(A))\n",
    "        col = len(A[0])\n",
    "        A = transpuesta(A)\n",
    "        for j in range(fil):\n",
    "            for k in range(col):\n",
    "                A[j][k] = conjudado(A[j][k])\n",
    "        return A\n",
    "    except:\n",
    "        fil = int(len(A))\n",
    "        for j in range(fil):\n",
    "            A[j] = conjudado(A[j])\n",
    "        return A\n",
    "\n",
    "#Ahora si la solucion \n",
    "def valoresperado(matriz, ket):\n",
    "    if hermitiana(matriz) == False:\n",
    "        raise Exception(\"No se puede realizar la operacion debido a que la matriz no es hermitiana\")\n",
    "    else:\n",
    "        return (producintern(accionvecmat(matriz, ket), ket))\n",
    "\n",
    "def varianza(matriz, ket):\n",
    "    if hermitiana(matriz) == False:\n",
    "        raise Exception(\"No se puede realizar la operacion debido a que la matriz no es hermitiana\")\n",
    "    else:\n",
    "        identidad = []\n",
    "        for i in range(len(matriz)):\n",
    "            identidad.append([])\n",
    "            for j in range(len(matriz[0])):\n",
    "                if j != i:\n",
    "\n",
    "                    identidad[i].append((0, 0))\n",
    "                else:\n",
    "\n",
    "                    identidad[i].append((1, 0))\n",
    "\n",
    "        delta = restamatriz(matriz, matrizporescalar(valoresperado(matriz, ket), identidad))\n",
    "        delta = multmatrices(delta, delta)\n",
    "        return (producintern(accionvecmat(delta, ket), ket))\n",
    "\n",
    "def accionvecmat(A, B):\n",
    "    filA = len(A)\n",
    "    colA = len(A[0])\n",
    "    filB = len(B)\n",
    "\n",
    "    if colA == filB:\n",
    "        mat = [(0, 0) for j in range(filB)]\n",
    "\n",
    "    for j in range(filA):\n",
    "        for k in range(filB):\n",
    "            mat[j] = sumacomplejos(mat[j], multiplicacion(A[j][k], B[k]))\n",
    "    return mat\n",
    "\n",
    "def sumacomplejos(A, B):\n",
    "    real, imaginario = A[0] + B[0], A[1] + B[1]\n",
    "    return real, imaginario\n",
    "\n",
    "def multiplicacion(A, B):\n",
    "    real, imaginario = A[0] * B[0] - A[1] * B[1], A[0] * B[1] + A[1] * B[0]\n",
    "    return round(real, 3), round(imaginario, 3)\n"
   ]
  },
  {
   "cell_type": "code",
   "execution_count": null,
   "id": "7eea392b-5ce9-4951-80c3-4face7f0d50e",
   "metadata": {},
   "outputs": [],
   "source": [
    "# Solucion El sistema calcula los valores propios del observable y la probabilidad de que el sistema transite a alguno de los vectores propios después de la observación."
   ]
  },
  {
   "cell_type": "code",
   "execution_count": null,
   "id": "a01b41d2-c09a-4cf2-a32f-3a6fb31b1331",
   "metadata": {},
   "outputs": [],
   "source": [
    "# Solucion  Se considera la dinámica del sistema. Ahora con una serie de matrices Un el sistema calcula el estado final a partir de un estado inicial."
   ]
  }
 ],
 "metadata": {
  "kernelspec": {
   "display_name": "Python 3 (ipykernel)",
   "language": "python",
   "name": "python3"
  },
  "language_info": {
   "codemirror_mode": {
    "name": "ipython",
    "version": 3
   },
   "file_extension": ".py",
   "mimetype": "text/x-python",
   "name": "python",
   "nbconvert_exporter": "python",
   "pygments_lexer": "ipython3",
   "version": "3.11.5"
  }
 },
 "nbformat": 4,
 "nbformat_minor": 5
}
